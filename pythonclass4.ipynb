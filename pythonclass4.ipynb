{
  "nbformat": 4,
  "nbformat_minor": 0,
  "metadata": {
    "colab": {
      "provenance": [],
      "authorship_tag": "ABX9TyPjCrgqDz+JiAtOHJcciBxu",
      "include_colab_link": true
    },
    "kernelspec": {
      "name": "python3",
      "display_name": "Python 3"
    },
    "language_info": {
      "name": "python"
    }
  },
  "cells": [
    {
      "cell_type": "markdown",
      "metadata": {
        "id": "view-in-github",
        "colab_type": "text"
      },
      "source": [
        "<a href=\"https://colab.research.google.com/github/Mharis55/Data_Analytics_Bootcamp_2024/blob/main/pythonclass4.ipynb\" target=\"_parent\"><img src=\"https://colab.research.google.com/assets/colab-badge.svg\" alt=\"Open In Colab\"/></a>"
      ]
    },
    {
      "cell_type": "code",
      "execution_count": 1,
      "metadata": {
        "colab": {
          "base_uri": "https://localhost:8080/"
        },
        "id": "8OTixAKtQyKv",
        "outputId": "e90a805d-af84-41c3-abce-507909a2aeae"
      },
      "outputs": [
        {
          "output_type": "stream",
          "name": "stdout",
          "text": [
            "   time  distance  mass  latitude  longitude\n",
            "0     0         0   500         0          0\n",
            "1    10       100   500        10         20\n",
            "2    20       200   500        20         40\n",
            "3    30       300   500        30         60\n",
            "4    40       400   500        40         80\n"
          ]
        }
      ],
      "source": [
        "import pandas as pd\n",
        "\n",
        "data = {\n",
        "    'time': [0, 10, 20, 30, 40],\n",
        "    'distance': [0, 100, 200, 300, 400],\n",
        "    'mass': [500, 500, 500, 500, 500],\n",
        "    'latitude': [0, 10, 20, 30, 40],\n",
        "    'longitude': [0, 20, 40, 60, 80]\n",
        "}\n",
        "\n",
        "df = pd.DataFrame(data)\n",
        "print(df)"
      ]
    },
    {
      "cell_type": "code",
      "source": [
        "def speed_test(dist,time):\n",
        "  speed = dist/time\n",
        "  if speed > \t42000:\n",
        "    print(f\"Its going too fast {speed}\")\n",
        "  else:\n",
        "    return speed"
      ],
      "metadata": {
        "id": "HjoILC5TR5pB"
      },
      "execution_count": 7,
      "outputs": []
    },
    {
      "cell_type": "code",
      "source": [
        "speed_test(120000,2)"
      ],
      "metadata": {
        "colab": {
          "base_uri": "https://localhost:8080/"
        },
        "id": "RgX4Gc2YR50f",
        "outputId": "b575fc04-925e-484f-e9cc-7017041c7053"
      },
      "execution_count": 8,
      "outputs": [
        {
          "output_type": "stream",
          "name": "stdout",
          "text": [
            "Its going too fast 60000.0\n"
          ]
        }
      ]
    },
    {
      "cell_type": "code",
      "source": [
        "def Gravity(mass,distance):\n",
        "  Gravity_pressure = mass * 9.8 / distance\n",
        "  return Gravity_pressure"
      ],
      "metadata": {
        "id": "nBuSSS29R5_Y"
      },
      "execution_count": 9,
      "outputs": []
    },
    {
      "cell_type": "code",
      "source": [
        "Gravity(100,150)"
      ],
      "metadata": {
        "colab": {
          "base_uri": "https://localhost:8080/"
        },
        "id": "niVcYO5jR6KP",
        "outputId": "214aeecb-79ec-42d4-99bf-8d73de36a365"
      },
      "execution_count": 10,
      "outputs": [
        {
          "output_type": "execute_result",
          "data": {
            "text/plain": [
              "6.533333333333334"
            ]
          },
          "metadata": {},
          "execution_count": 10
        }
      ]
    },
    {
      "cell_type": "code",
      "source": [
        "# Check the Space Location in GPS coordinates\n",
        "import random\n",
        "def gps_coordinates():\n",
        "    return (random.uniform(-5000, 5000), random.uniform(-5000, 5000), random.uniform(-5000, 5000))\n",
        "\n",
        "space_coordinates = gps_coordinates()\n",
        "print(\"GPS Coordinates:\", space_coordinates)"
      ],
      "metadata": {
        "colab": {
          "base_uri": "https://localhost:8080/"
        },
        "id": "lefC_HalR6Uq",
        "outputId": "9dbc1b8d-17b7-4d6c-bdf7-eebb15323b6c"
      },
      "execution_count": 14,
      "outputs": [
        {
          "output_type": "stream",
          "name": "stdout",
          "text": [
            "GPS Coordinates: (4269.0349003725005, 1204.589103385486, 2176.31594514242)\n"
          ]
        }
      ]
    },
    {
      "cell_type": "code",
      "source": [
        "def get_location(latitude, longitude):\n",
        "    return (latitude, longitude)\n",
        "\n",
        "for i in range(len(df)):\n",
        "    location = get_location(df['latitude'][i], df['longitude'][i])\n",
        "    print(f\"Space location at time {df['time'][i]}: {location}\")"
      ],
      "metadata": {
        "colab": {
          "base_uri": "https://localhost:8080/"
        },
        "id": "TmDbdNZ-R6fo",
        "outputId": "0a34c1f3-ac0e-4ec3-db03-ed321c332167"
      },
      "execution_count": 12,
      "outputs": [
        {
          "output_type": "stream",
          "name": "stdout",
          "text": [
            "Space location at time 0: (0, 0)\n",
            "Space location at time 10: (10, 20)\n",
            "Space location at time 20: (20, 40)\n",
            "Space location at time 30: (30, 60)\n",
            "Space location at time 40: (40, 80)\n"
          ]
        }
      ]
    }
  ]
}